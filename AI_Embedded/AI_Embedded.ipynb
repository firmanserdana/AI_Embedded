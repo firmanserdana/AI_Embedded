{
 "cells": [
  {
   "cell_type": "code",
   "execution_count": 1,
   "metadata": {},
   "outputs": [
    {
     "name": "stdout",
     "output_type": "stream",
     "text": [
      "[-30.19696055]\n",
      "0.001545843509458411 [ 4.72203661 48.35755235]\n",
      "-30.1969605509817\n",
      "KNN 0.9666666666666666 0.061463629715285906\n",
      "NB 0.9466666666666667 0.03999999999999999\n",
      "SVM 0.9533333333333335 0.059999999999999984\n",
      "Linear Regression 0.9999951844115962\n"
     ]
    }
   ],
   "source": [
    "from sklearn import datasets\n",
    "from sklearn.neighbors import KNeighborsClassifier\n",
    "from sklearn import model_selection\n",
    "from sklearn.metrics import accuracy_score\n",
    "from sklearn.naive_bayes import GaussianNB\n",
    "from sklearn.svm import SVC\n",
    "from sklearn.linear_model import LinearRegression\n",
    "from sklearn.datasets import make_regression\n",
    "\n",
    "iris = datasets.load_iris()\n",
    "\n",
    "X2, Y2 = make_regression(n_samples=100, n_features=2, noise=0.1)\n",
    "model4 = LinearRegression()\n",
    "model4.fit(X2, Y2)\n",
    "\n",
    "Xnew = [[-1.07, -0.52]]\n",
    "Ynew = model4.predict(Xnew)\n",
    "\n",
    "print(Ynew)\n",
    "\n",
    "print(model4.intercept_, model4.coef_)\n",
    "mylinearregression = model4.coef_[0] * Xnew[0][0] + model4.coef_[1] * Xnew[0][1] + model4.intercept_\n",
    "print(mylinearregression)\n",
    "\n",
    "X = iris.data\n",
    "Y = iris.target\n",
    "\n",
    "X_train, X_test, Y_train, Y_test = model_selection.train_test_split(X, Y, test_size=0.2, random_state=10)\n",
    "\n",
    "kfold = model_selection.KFold(n_splits=10, random_state=14, shuffle=True)\n",
    "\n",
    "model1 = KNeighborsClassifier(n_neighbors=5)\n",
    "# model.fit(X_train, Y_train)\n",
    "\n",
    "# test = [[5.1, 3.5, 1.4, 0.2]]\n",
    "\n",
    "# prediction = model.predict(X_test)\n",
    "\n",
    "# percentage = model.score(X_test, Y_test)\n",
    "\n",
    "# print(prediction)\n",
    "# print(percentage)\n",
    "# print(accuracy_score(Y_test, prediction))\n",
    "\n",
    "model2 = GaussianNB()\n",
    "model3 = SVC()\n",
    "results1 = model_selection.cross_val_score(model1, X, Y, cv=kfold, scoring='accuracy')\n",
    "results2 = model_selection.cross_val_score(model2, X, Y, cv=kfold, scoring='accuracy')\n",
    "results3 = model_selection.cross_val_score(model3, X, Y, cv=kfold, scoring='accuracy')\n",
    "print('KNN', results1.mean(), results1.std())\n",
    "print('NB', results2.mean(), results2.std())\n",
    "print('SVM', results3.mean(), results3.std())\n",
    "print('Linear Regression', model4.score(X2, Y2))\n",
    "\n"
   ]
  }
 ],
 "metadata": {
  "kernelspec": {
   "display_name": "Python 3.9.12 64-bit",
   "language": "python",
   "name": "python3"
  },
  "language_info": {
   "codemirror_mode": {
    "name": "ipython",
    "version": 3
   },
   "file_extension": ".py",
   "mimetype": "text/x-python",
   "name": "python",
   "nbconvert_exporter": "python",
   "pygments_lexer": "ipython3",
   "version": "3.9.12"
  },
  "orig_nbformat": 4,
  "vscode": {
   "interpreter": {
    "hash": "ed6f380262de14021231207e865721df4eb4a6e5793798e96062debf0eba59f1"
   }
  }
 },
 "nbformat": 4,
 "nbformat_minor": 2
}
